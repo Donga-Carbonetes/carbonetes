{
 "cells": [
  {
   "cell_type": "code",
   "execution_count": 6,
   "id": "38642390",
   "metadata": {},
   "outputs": [
    {
     "name": "stdout",
     "output_type": "stream",
     "text": [
      "✅ 'main.py' 업로드 성공\n"
     ]
    }
   ],
   "source": [
    "from minio import Minio\n",
    "from minio.error import S3Error\n",
    "import os\n",
    "\n",
    "# MinIO 클라이언트 설정\n",
    "client = Minio(\n",
    "    \"211.253.31.134:31827\",\n",
    "    access_key=\"rootuser\",\n",
    "    secret_key=\"rootpass123\",\n",
    "    secure=False\n",
    ")\n",
    "\n",
    "bucket_name = \"mybucket\"\n",
    "object_name = \"main.py\"\n",
    "local_file_path = \"./main.py\"\n",
    "\n",
    "# 버킷이 없으면 생성\n",
    "if not client.bucket_exists(bucket_name):\n",
    "    client.make_bucket(bucket_name)\n",
    "\n",
    "# 업로드\n",
    "try:\n",
    "    client.fput_object(bucket_name, object_name, local_file_path)\n",
    "    print(f\"✅ '{object_name}' 업로드 성공\")\n",
    "except S3Error as e:\n",
    "    print(f\"❌ 업로드 실패: {e}\")\n"
   ]
  },
  {
   "cell_type": "code",
   "execution_count": null,
   "id": "e51a7b65",
   "metadata": {},
   "outputs": [
    {
     "name": "stdout",
     "output_type": "stream",
     "text": [
      "✅ 'main.py' 다운로드 성공\n"
     ]
    }
   ],
   "source": [
    "from minio import Minio\n",
    "from minio.error import S3Error\n",
    "import os\n",
    "import subprocess\n",
    "\n",
    "# MinIO 클라이언트 설정\n",
    "client = Minio(\n",
    "    \"211.253.31.134:31827\",\n",
    "    access_key=\"rootuser\",\n",
    "    secret_key=\"rootpass123\",\n",
    "    secure=False\n",
    ")\n",
    "\n",
    "bucket_name = \"mybucket\"\n",
    "object_name = \"main.py\"\n",
    "\n",
    "# 다운로드 경로 설정\n",
    "download_dir = \"./tmp/myapp\"\n",
    "os.makedirs(download_dir, exist_ok=True)\n",
    "\n",
    "download_path = os.path.abspath(os.path.join(download_dir, object_name))\n",
    "# 파일 다운로드\n",
    "try:\n",
    "    client.fget_object(bucket_name, object_name, download_path)\n",
    "    print(f\"✅ '{object_name}' 다운로드 성공\")\n",
    "except S3Error as e:\n",
    "    print(f\"❌ 다운로드 실패: {e}\")\n",
    "    exit(1)\n",
    "\n",
    "# 실시간 출력\n",
    "try:\n",
    "    process = subprocess.Popen(\n",
    "        [\"python\", download_path],\n",
    "        stdout=subprocess.PIPE,\n",
    "        stderr=subprocess.STDOUT,\n",
    "        text=True,\n",
    "        bufsize=1  # 줄 단위로 버퍼링\n",
    "    )\n",
    "\n",
    "    print(\"▶️ 실행 시작:\")\n",
    "    for line in process.stdout:\n",
    "        print(line, end=\"\")  # 실시간 출력\n",
    "\n",
    "    process.wait()\n",
    "    print(f\"\\n✅ 실행 종료 (종료 코드: {process.returncode})\")\n",
    "\n",
    "    if process.returncode != 0:\n",
    "        print(\"⚠️ 오류가 발생했습니다.\")\n",
    "except Exception as e:\n",
    "    print(f\"❌ 실행 중 예외 발생: {e}\")\n"
   ]
  }
 ],
 "metadata": {
  "kernelspec": {
   "display_name": "Python 3",
   "language": "python",
   "name": "python3"
  },
  "language_info": {
   "codemirror_mode": {
    "name": "ipython",
    "version": 3
   },
   "file_extension": ".py",
   "mimetype": "text/x-python",
   "name": "python",
   "nbconvert_exporter": "python",
   "pygments_lexer": "ipython3",
   "version": "3.11.4"
  }
 },
 "nbformat": 4,
 "nbformat_minor": 5
}
